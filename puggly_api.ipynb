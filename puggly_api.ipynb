{
 "cells": [
  {
   "cell_type": "markdown",
   "id": "81f9342b",
   "metadata": {},
   "source": [
    "# Definir suas credenciais Pluggy\n",
    "    aqui precisa ir no dash e criar uma application que dps ja aparce os ids"
   ]
  },
  {
   "cell_type": "code",
   "execution_count": null,
   "id": "772ca804",
   "metadata": {
    "vscode": {
     "languageId": "plaintext"
    }
   },
   "outputs": [],
   "source": [
    "CLIENT_ID = 'e'\n",
    "CLIENT_SECRET = 'sd'"
   ]
  },
  {
   "cell_type": "markdown",
   "id": "917ca787",
   "metadata": {},
   "source": [
    "# Obter o access_token"
   ]
  },
  {
   "cell_type": "code",
   "execution_count": null,
   "id": "d742bf11",
   "metadata": {
    "vscode": {
     "languageId": "plaintext"
    }
   },
   "outputs": [],
   "source": [
    "auth_url = \"https://api.pluggy.ai/auth\"\n",
    "auth_body = {\n",
    "    \"clientId\": CLIENT_ID,\n",
    "    \"clientSecret\": CLIENT_SECRET\n",
    "}\n",
    "auth_resp = requests.post(auth_url, json=auth_body).json()\n",
    "access_token = auth_resp['apiKey']\n",
    "print(f\"Access Token: {access_token}\")"
   ]
  },
  {
   "cell_type": "markdown",
   "id": "dcb7e043",
   "metadata": {},
   "source": [
    "# Obter os connectors disponíveis"
   ]
  },
  {
   "cell_type": "code",
   "execution_count": null,
   "id": "d65ca7aa",
   "metadata": {
    "vscode": {
     "languageId": "plaintext"
    }
   },
   "outputs": [],
   "source": [
    "headers = {\"X-API-KEY\": f\"{access_token}\"}\n",
    "connectors_url = \"https://api.pluggy.ai/connectors\"\n",
    "connectors = requests.get(connectors_url, headers=headers).json()\n",
    "connectors"
   ]
  },
  {
   "cell_type": "markdown",
   "id": "c2619eaa",
   "metadata": {},
   "source": [
    "## Encontre o ID do Mercado Pago"
   ]
  },
  {
   "cell_type": "code",
   "execution_count": null,
   "id": "1d28a055",
   "metadata": {
    "vscode": {
     "languageId": "plaintext"
    }
   },
   "outputs": [],
   "source": [
    "mp_connector = next(c for c in connectors['results'] if 'mercado pago' in c['name'].lower())\n",
    "print(\"ID do Mercado Pago:\", mp_connector['id'])"
   ]
  },
  {
   "cell_type": "markdown",
   "id": "eb27a5f8",
   "metadata": {},
   "source": [
    "# Crie um ConnectToken para iniciar o fluxo de conexão"
   ]
  },
  {
   "cell_type": "code",
   "execution_count": null,
   "id": "c6fb59c3",
   "metadata": {
    "vscode": {
     "languageId": "plaintext"
    }
   },
   "outputs": [],
   "source": [
    "connect_token_url = \"https://api.pluggy.ai/connect_token\"\n",
    "body = {\n",
    "    \"clientUserId\": \"usuario_teste_001\"  # Pode ser um identificador qualquer para seu uso\n",
    "}\n",
    "token_resp = requests.post(connect_token_url, json=body, headers=headers).json()\n",
    "\n",
    "connect_token = token_resp['accessToken']\n",
    "\n",
    "print(f\"Link para conectar Mercado Pago: https://connect.pluggy.ai/?connect_token={connect_token}\")"
   ]
  },
  {
   "cell_type": "markdown",
   "id": "30dbc998",
   "metadata": {},
   "source": [
    "## Depois de conectar com o banco da sua conta (retornado ao conectar)\n",
    "    Aqui parapegar o itemID vc entra em app https://dashboard.pluggy.ai/applications dps clica em preview demo e copia o itemId que aparece na lateral diretira"
   ]
  },
  {
   "cell_type": "code",
   "execution_count": null,
   "id": "8cf29f0d",
   "metadata": {
    "vscode": {
     "languageId": "plaintext"
    }
   },
   "outputs": [],
   "source": [
    "item_id = ''"
   ]
  },
  {
   "cell_type": "markdown",
   "id": "a4c89b9e",
   "metadata": {},
   "source": [
    "## Listar contas da instituição\n",
    "    Aqui tem informações sobre a conta como saldo cpf etc"
   ]
  },
  {
   "cell_type": "code",
   "execution_count": null,
   "id": "22ce3960",
   "metadata": {
    "vscode": {
     "languageId": "plaintext"
    }
   },
   "outputs": [],
   "source": [
    "accounts_url = f\"https://api.pluggy.ai/accounts?itemId={item_id}\"\n",
    "accounts = requests.get(accounts_url, headers=headers).json()\n",
    "accounts"
   ]
  },
  {
   "cell_type": "code",
   "execution_count": null,
   "id": "6ec71f03",
   "metadata": {
    "vscode": {
     "languageId": "plaintext"
    }
   },
   "outputs": [],
   "source": [
    "for account in accounts['results']:\n",
    "    if account['type'] == 'BANK':\n",
    "        print(f\"Conta owner: {account['owner']},\\n \\\n",
    "            Tipo: {account['type']},\\n \\\n",
    "            Saldo: {account['bankData']['closingBalance']}\\n \\\n",
    "            {account['currencyCode']}\")\n",
    "    else:\n",
    "        print(f\"Outras contas: {account['owner']},\\n \\\n",
    "            Tipo: {account['type']},\\n\")"
   ]
  },
  {
   "cell_type": "markdown",
   "id": "30ac5707",
   "metadata": {},
   "source": [
    "## Listar transações de uma conta específica"
   ]
  },
  {
   "cell_type": "code",
   "execution_count": null,
   "id": "1d1730fd",
   "metadata": {
    "vscode": {
     "languageId": "plaintext"
    }
   },
   "outputs": [],
   "source": [
    "account_id = accounts['results'][0]['id']  # Pegue o ID da conta desejada\n",
    "transactions_url = f\"https://api.pluggy.ai/transactions?accountId={account_id}\"\n",
    "transactions = requests.get(transactions_url, headers=headers).json()\n",
    "transactions\n"
   ]
  },
  {
   "cell_type": "code",
   "execution_count": null,
   "id": "02401bc2",
   "metadata": {
    "vscode": {
     "languageId": "plaintext"
    }
   },
   "outputs": [],
   "source": [
    "for i in transactions[\"results\"]:\n",
    "    print(f\"Transaction Description: {i['description']}\")\n",
    "    print(f\"Transaction category: {i['category']}\")\n",
    "    print(f\"Transaction operacao: {i['operationType']}\")\n",
    "    print(f\"Transaction PaymentData: {i['paymentData']}\")\n",
    "    print(f\"Amount: {i['amount']}\")\n",
    "    print(f\"Date: {i['date']}\")\n",
    "    print(\"-\" * 30)"
   ]
  },
  {
   "cell_type": "markdown",
   "id": "01f2a27a",
   "metadata": {},
   "source": []
  }
 ],
 "metadata": {
  "language_info": {
   "name": "python"
  }
 },
 "nbformat": 4,
 "nbformat_minor": 5
}
